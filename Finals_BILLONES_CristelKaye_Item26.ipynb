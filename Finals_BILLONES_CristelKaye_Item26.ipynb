{
  "nbformat": 4,
  "nbformat_minor": 0,
  "metadata": {
    "colab": {
      "provenance": []
    },
    "kernelspec": {
      "name": "python3",
      "display_name": "Python 3"
    },
    "language_info": {
      "name": "python"
    }
  },
  "cells": [
    {
      "cell_type": "code",
      "execution_count": 31,
      "metadata": {
        "id": "ddXQh_UjIfeF"
      },
      "outputs": [],
      "source": [
        "import pandas as pd\n",
        "from scipy.stats import f_oneway\n",
        "\n",
        "# Create the dataset\n",
        "data = {\n",
        "    'Stimuli': ['Shape', 'Shape', 'Shape', 'Shape', 'Shape', 'Shape', 'Shape', 'Shape', 'Pattern', 'Pattern', 'Pattern', 'Pattern', 'Pattern', 'Pattern', 'Pattern', 'Pattern', 'Picture', 'Picture', 'Picture', 'Picture', 'Picture', 'Picture', 'Picture', 'Picture', 'Shape', 'Shape', 'Shape', 'Shape', 'Pattern', 'Pattern', 'Pattern', 'Pattern', 'Picture', 'Picture', 'Picture', 'Picture'],\n",
        "    'Time': [2, 0.75, 1.25, 1, 1.5, 1.25, 1.75, 0.5, 2.5, 3.25, 1.85, 3.05, 2.5, 3, 4.1, 3.75, 4.25, 4.1, 4.25, 4.4, 3.75, 3.05, 3.2, 5, 2, 0.75, 1.25, 1, 2.5, 3.25, 1.85, 3.05, 4.25, 4.4, 3.75, 3.05]\n",
        "}\n",
        "\n",
        "# Create a DataFrame\n",
        "df = pd.DataFrame(data)"
      ]
    },
    {
      "cell_type": "code",
      "source": [
        "# Perform one-way ANOVA\n",
        "f_statistic, p_value = f_oneway(shape_time, pattern_time, picture_time)\n",
        "\n",
        "# Print the results\n",
        "print(f\"F-statistic: {f_statistic:.3f}\")\n",
        "print(f\"P-value: {p_value:.3f}\")\n",
        "\n",
        "if p_value < 0.05:\n",
        "    print(\"There is a significant difference in time spent between treatment conditions.\")\n",
        "else:\n",
        "    print(\"There is no significant difference in time spent between treatment conditions.\")"
      ],
      "metadata": {
        "colab": {
          "base_uri": "https://localhost:8080/"
        },
        "id": "Tr6Do4LqflhV",
        "outputId": "040a4731-f44c-405c-ba70-3bd5f7f066bf"
      },
      "execution_count": 33,
      "outputs": [
        {
          "output_type": "stream",
          "name": "stdout",
          "text": [
            "F-statistic: 62.089\n",
            "P-value: 0.000\n",
            "There is a significant difference in time spent between treatment conditions.\n"
          ]
        }
      ]
    },
    {
      "cell_type": "code",
      "source": [
        "from scipy.stats import shapiro, levene\n",
        "\n",
        "# Shapiro-Wilk test for normality\n",
        "print(shapiro(shape_time))\n",
        "print(shapiro(pattern_time))\n",
        "print(shapiro(picture_time))\n",
        "\n",
        "# Levene's test for homogeneity of variances\n",
        "print()\n",
        "print(levene(shape_time, pattern_time, picture_time))\n"
      ],
      "metadata": {
        "colab": {
          "base_uri": "https://localhost:8080/"
        },
        "id": "4Ke4iiIOkfGv",
        "outputId": "4990c038-3e2e-4c1d-d220-9cd8869e305a"
      },
      "execution_count": 36,
      "outputs": [
        {
          "output_type": "stream",
          "name": "stdout",
          "text": [
            "ShapiroResult(statistic=0.943737804889679, pvalue=0.5479545593261719)\n",
            "ShapiroResult(statistic=0.9500510692596436, pvalue=0.6377314925193787)\n",
            "ShapiroResult(statistic=0.9151579737663269, pvalue=0.24829529225826263)\n",
            "\n",
            "LeveneResult(statistic=0.43132798942236117, pvalue=0.6532556922411884)\n"
          ]
        }
      ]
    },
    {
      "cell_type": "code",
      "source": [],
      "metadata": {
        "id": "aW0rg_aGkjel"
      },
      "execution_count": null,
      "outputs": []
    }
  ]
}